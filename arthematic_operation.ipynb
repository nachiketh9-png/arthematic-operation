{
  "nbformat": 4,
  "nbformat_minor": 0,
  "metadata": {
    "colab": {
      "provenance": []
    },
    "kernelspec": {
      "name": "python3",
      "display_name": "Python 3"
    },
    "language_info": {
      "name": "python"
    }
  },
  "cells": [
    {
      "cell_type": "markdown",
      "source": [
        "add two numbers"
      ],
      "metadata": {
        "id": "QoN3Elt39lOA"
      }
    },
    {
      "cell_type": "code",
      "source": [
        "a=int(input(\"enter the first number:\"))\n",
        "b=int(input(\"enter the second number:\"))\n",
        "c=a+b\n",
        "print(c)"
      ],
      "metadata": {
        "colab": {
          "base_uri": "https://localhost:8080/"
        },
        "id": "m3Q4ihOo9oN4",
        "outputId": "95bf89bb-c970-4578-85a6-3f611a01ade7"
      },
      "execution_count": 5,
      "outputs": [
        {
          "output_type": "stream",
          "name": "stdout",
          "text": [
            "enter the first number:9\n",
            "enter the second number:8\n",
            "17\n"
          ]
        }
      ]
    },
    {
      "cell_type": "code",
      "source": [
        "a=int(input(\"enter the first number:\"))\n",
        "b=int(input(\"enter the second number:\"))\n",
        "c=a-b\n",
        "print(c)\n"
      ],
      "metadata": {
        "colab": {
          "base_uri": "https://localhost:8080/"
        },
        "id": "pWB8ilFD-VKX",
        "outputId": "e753f8f5-078d-4346-9952-374747d3876c"
      },
      "execution_count": 6,
      "outputs": [
        {
          "output_type": "stream",
          "name": "stdout",
          "text": [
            "enter the first number:8\n",
            "enter the second number:4\n",
            "4\n"
          ]
        }
      ]
    },
    {
      "cell_type": "code",
      "source": [
        "radius=int(input(\"enter the radius:\"))\n",
        "pi=3.14\n",
        "area=pi*radius*radius\n",
        "print(\"area of circle is :\", area)\n"
      ],
      "metadata": {
        "colab": {
          "base_uri": "https://localhost:8080/"
        },
        "id": "3x5TRnIZ-6m3",
        "outputId": "8d538ced-7b29-4d0b-d1d1-825df5a16cee"
      },
      "execution_count": 7,
      "outputs": [
        {
          "output_type": "stream",
          "name": "stdout",
          "text": [
            "enter the radius:50\n",
            "area of circle is : 7850.0\n"
          ]
        }
      ]
    },
    {
      "cell_type": "code",
      "source": [
        "a=int(input(\"enter the number: \"))\n",
        "b=int(input(\"enter the number: \"))\n",
        "c=a/b\n",
        "print(c)\n"
      ],
      "metadata": {
        "colab": {
          "base_uri": "https://localhost:8080/"
        },
        "id": "ybsZy_KEAOyv",
        "outputId": "2d978bce-0d3c-44cf-8545-c7a741fc92c0"
      },
      "execution_count": 8,
      "outputs": [
        {
          "output_type": "stream",
          "name": "stdout",
          "text": [
            "enter the number: 2\n",
            "enter the number: 24\n",
            "0.08333333333333333\n"
          ]
        }
      ]
    },
    {
      "cell_type": "code",
      "source": [
        "a=int(input(\"enter the number: \"))\n",
        "b=int(input(\"enter the number: \"))\n",
        "print(a+b)\n",
        "print(a*b)\n",
        "print(a/b)\n",
        "print(a-b)\n",
        "print(a%b)\n",
        "print(a**b)\n"
      ],
      "metadata": {
        "colab": {
          "base_uri": "https://localhost:8080/"
        },
        "id": "-aeqOLG5Azbe",
        "outputId": "bba9e084-03f2-4981-d1a0-125e7f37ac92"
      },
      "execution_count": 9,
      "outputs": [
        {
          "output_type": "stream",
          "name": "stdout",
          "text": [
            "enter the number: 20\n",
            "enter the number: 20\n",
            "40\n",
            "400\n",
            "1.0\n",
            "0\n",
            "0\n",
            "104857600000000000000000000\n"
          ]
        }
      ]
    }
  ]
}